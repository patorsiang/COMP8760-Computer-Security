{
 "cells": [
  {
   "cell_type": "markdown",
   "metadata": {},
   "source": [
    "# PC 8"
   ]
  },
  {
   "cell_type": "markdown",
   "metadata": {},
   "source": [
    "## Exercise 1 – Setting Linux file and folder permissions"
   ]
  },
  {
   "cell_type": "code",
   "execution_count": 2,
   "metadata": {},
   "outputs": [],
   "source": [
    "import re\n",
    "\n",
    "def string_to_integer(permission):\n",
    "  res = 0\n",
    "  for ch in permission:\n",
    "    if ch == 'r':\n",
    "      res += 4\n",
    "    elif ch == 'w':\n",
    "      res += 2\n",
    "    elif ch == 'x':\n",
    "      res += 1\n",
    "  return res\n",
    "\n",
    "## check validate is optional\n",
    "def validate_permission_string(permission_string):\n",
    "  pattern = \"^([r-][w-][x-]){3}\"\n",
    "  if re.match(pattern, permission_string):\n",
    "    return True\n",
    "  else:\n",
    "    return False\n",
    "\n",
    "def convert_permissions(permission):\n",
    "  if not validate_permission_string(permission):\n",
    "    return \"Invalid permission string\"\n",
    "  owner = string_to_integer(permission[:3])\n",
    "  group = string_to_integer(permission[3:6])\n",
    "  other = string_to_integer(permission[6:])\n",
    "\n",
    "  return f\"{owner}{group}{other}\""
   ]
  },
  {
   "cell_type": "code",
   "execution_count": 3,
   "metadata": {},
   "outputs": [
    {
     "name": "stdout",
     "output_type": "stream",
     "text": [
      "754\n"
     ]
    }
   ],
   "source": [
    "print(convert_permissions(\"rwxr-xr--\"))"
   ]
  },
  {
   "cell_type": "code",
   "execution_count": 4,
   "metadata": {},
   "outputs": [
    {
     "name": "stdout",
     "output_type": "stream",
     "text": [
      "Invalid permission string\n"
     ]
    }
   ],
   "source": [
    "print(convert_permissions(\"-rwxr-xr--\"))"
   ]
  },
  {
   "cell_type": "markdown",
   "metadata": {},
   "source": [
    "## Exercise 2 – Investigating a real-world example of role-based access control (RBAC)"
   ]
  },
  {
   "cell_type": "markdown",
   "metadata": {},
   "source": [
    "- version control tool like github and gitlab use RBAC to manage access to repositories.\n",
    "- [kent cs gitlab permission](https://git.cs.kent.ac.uk/help/user/permissions.md)\n",
    "- https://git.cs.kent.ac.uk/help/user/custom_roles.md\n",
    "- "
   ]
  },
  {
   "cell_type": "markdown",
   "metadata": {},
   "source": [
    "## Exercise 3 – Learning about same-origin policies (SOP) and cross-site scripting (XSS) attacks"
   ]
  },
  {
   "cell_type": "markdown",
   "metadata": {},
   "source": [
    "- Lever 1: `<script>alert('XSS')</script>`\n",
    "- Lever 2: `<span style=\"color: #f00ba7\" onclick=\"alert('XSS')\">madness</span>`\n",
    "- Lever 3: url: `#1'><script>alert('XSS')</script>`\n",
    "- Lever 4: `?timer=0%27%29%3B%20alert%28%27XSS`\n",
    "- Lever 5: `?next=javascript:alert('XSS')`\n",
    "- Lever 6: `#data:text/javascript,alert('XSS')`"
   ]
  },
  {
   "cell_type": "markdown",
   "metadata": {},
   "source": []
  }
 ],
 "metadata": {
  "kernelspec": {
   "display_name": "com-sec",
   "language": "python",
   "name": "python3"
  },
  "language_info": {
   "codemirror_mode": {
    "name": "ipython",
    "version": 3
   },
   "file_extension": ".py",
   "mimetype": "text/x-python",
   "name": "python",
   "nbconvert_exporter": "python",
   "pygments_lexer": "ipython3",
   "version": "3.12.7"
  }
 },
 "nbformat": 4,
 "nbformat_minor": 2
}
