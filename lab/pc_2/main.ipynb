{
 "cells": [
  {
   "cell_type": "markdown",
   "metadata": {},
   "source": [
    "# Task 1: Finding Prime Number"
   ]
  },
  {
   "cell_type": "markdown",
   "metadata": {},
   "source": [
    "## (A): Is or Is not a prime number"
   ]
  },
  {
   "cell_type": "code",
   "execution_count": 4,
   "metadata": {},
   "outputs": [],
   "source": [
    "from task1_a import print_prime"
   ]
  },
  {
   "cell_type": "code",
   "execution_count": 5,
   "metadata": {},
   "outputs": [
    {
     "name": "stdout",
     "output_type": "stream",
     "text": [
      "Please enter the integer n: 97\n",
      "Searching for divisors between Results of the 2 and 9\n",
      "The number 97 is a prime.\n"
     ]
    }
   ],
   "source": [
    "n = 97\n",
    "print(f'Please enter the integer n: {n}')\n",
    "print_prime(n)"
   ]
  },
  {
   "cell_type": "code",
   "execution_count": 6,
   "metadata": {},
   "outputs": [
    {
     "name": "stdout",
     "output_type": "stream",
     "text": [
      "Please enter the integer n: 10201\n",
      "Searching for divisors between Results of the 2 and 101\n",
      "The number 10201 is composite with the certificate of compositeness being 101.\n"
     ]
    }
   ],
   "source": [
    "n = 10201\n",
    "print(f'Please enter the integer n: {n}')\n",
    "print_prime(n)"
   ]
  },
  {
   "cell_type": "code",
   "execution_count": 2,
   "metadata": {},
   "outputs": [
    {
     "name": "stdout",
     "output_type": "stream",
     "text": [
      "Searching for divisors between Results of the 2 and 101\n",
      "The number 10201 is composite with the certificate of compositeness being 101.\n"
     ]
    }
   ],
   "source": [
    "n = int(input(\"Please enter the integer n:\"))\n",
    "print_prime(n)"
   ]
  },
  {
   "cell_type": "markdown",
   "metadata": {},
   "source": [
    "## (B): verify by partial trial division (between 2 - 97) and the Fermat's primality testing"
   ]
  },
  {
   "cell_type": "markdown",
   "metadata": {},
   "source": [
    "### (i) Generate a 6-digit number p that is probably a prime."
   ]
  },
  {
   "cell_type": "code",
   "execution_count": 3,
   "metadata": {},
   "outputs": [
    {
     "name": "stdout",
     "output_type": "stream",
     "text": [
      "Checking for n=729280\n",
      "Searching for divisors only among primes between 2 and 97\n",
      "Running Fermat's test for k=50 iterations\n",
      "The number 729280 is probably prime (verified with partial trail division with prime numbers less than 100 and with Fermat's test with 50 iterations)\n"
     ]
    },
    {
     "data": {
      "text/plain": [
       "729280"
      ]
     },
     "execution_count": 3,
     "metadata": {},
     "output_type": "execute_result"
    }
   ],
   "source": [
    "from task1_b import generate_probable_prime\n",
    "generate_probable_prime()"
   ]
  },
  {
   "cell_type": "markdown",
   "metadata": {},
   "source": [
    "### (ii) Take an integer input and report if it is prime or composite"
   ]
  },
  {
   "cell_type": "code",
   "execution_count": 7,
   "metadata": {},
   "outputs": [],
   "source": [
    "from task1_b import is_prime_by_test"
   ]
  },
  {
   "cell_type": "code",
   "execution_count": 8,
   "metadata": {},
   "outputs": [
    {
     "name": "stdout",
     "output_type": "stream",
     "text": [
      "Please enter the integer n: 1009\n",
      "Please enter the number of iterations k: 50\n",
      "Searching for divisors only among primes between 2 and 97\n",
      "Running Fermat's test for k=50 iterations\n",
      "The number 1009 is probably prime (verified with partial trail division with prime numbers less than 100 and with Fermat's test with 50 iterations)\n"
     ]
    },
    {
     "data": {
      "text/plain": [
       "1"
      ]
     },
     "execution_count": 8,
     "metadata": {},
     "output_type": "execute_result"
    }
   ],
   "source": [
    "n = 1009\n",
    "k = 50\n",
    "print(f\"Please enter the integer n: {n}\")\n",
    "print(f\"Please enter the number of iterations k: {k}\")\n",
    "is_prime_by_test(n, k)"
   ]
  },
  {
   "cell_type": "code",
   "execution_count": 9,
   "metadata": {},
   "outputs": [
    {
     "name": "stdout",
     "output_type": "stream",
     "text": [
      "Please enter the integer n: 10201\n",
      "Please enter the number of iterations k: 50\n",
      "Searching for divisors only among primes between 2 and 97\n",
      "Running Fermat's test for k=50 iterations\n",
      "The number 10201 is composite with the certificate of compositeness being 7746.\n"
     ]
    },
    {
     "data": {
      "text/plain": [
       "1"
      ]
     },
     "execution_count": 9,
     "metadata": {},
     "output_type": "execute_result"
    }
   ],
   "source": [
    "n = 10201\n",
    "k = 50\n",
    "print(f\"Please enter the integer n: {n}\")\n",
    "print(f\"Please enter the number of iterations k: {k}\")\n",
    "is_prime_by_test(n, k)"
   ]
  },
  {
   "cell_type": "code",
   "execution_count": 2,
   "metadata": {},
   "outputs": [
    {
     "name": "stdout",
     "output_type": "stream",
     "text": [
      "Searching for divisors only among primes between 2 and 97\n",
      "Running Fermat's test for k=50 iterations\n",
      "The number 10201 is composite with the certificate of compositeness being 4817.\n"
     ]
    },
    {
     "data": {
      "text/plain": [
       "1"
      ]
     },
     "execution_count": 2,
     "metadata": {},
     "output_type": "execute_result"
    }
   ],
   "source": [
    "n = int(input(\"Please enter the integer n:\"))\n",
    "k = int(input(\"Please enter the number of iterations k:\"))\n",
    "is_prime_by_test(n, k)"
   ]
  },
  {
   "cell_type": "markdown",
   "metadata": {},
   "source": [
    "# Task 2: Extended Euclidean Algorithm"
   ]
  },
  {
   "cell_type": "markdown",
   "metadata": {},
   "source": [
    "## (a) Step of the Extended Euclidean Algorithm"
   ]
  },
  {
   "cell_type": "code",
   "execution_count": 10,
   "metadata": {},
   "outputs": [],
   "source": [
    "from task2_a import gcd"
   ]
  },
  {
   "cell_type": "code",
   "execution_count": 12,
   "metadata": {},
   "outputs": [
    {
     "name": "stdout",
     "output_type": "stream",
     "text": [
      "Please enter the first integer: 22\n",
      "Please enter the second integer: 7\n",
      "--------------------------------\n",
      "a = 22, b = 7\n",
      "Initialising:\n",
      "r1 = 22, s1 = 1, t1 = 0, \t r1 = s1 * a +t1 * b = 1  * 22 + 0 * 7 = 22\n",
      "r = 7, s = 0, t = 1, \t r = s * a +t * b = 0  * 22 + 1 * 7 = 7\n",
      "--------------------------------\n",
      "q = floor(22/7) = 3\n",
      "r = 1 = 22 - 3 * 7\n",
      "s = 1 = 1 - 3 * 0\n",
      "t = -3 = 0 - 3 * 1\n",
      "--------------------------------\n",
      "q = floor(7/1) = 7\n",
      "r = 0 = 7 - 7 * 1\n",
      "s = -7 = 0 - 7 * 1\n",
      "t = 22 = 1 - 7 * -3\n",
      "--------------------------------\n",
      "The GCD of 22 and 7 is 1.\n",
      "1 = 1 * 22 + -3 * 7\n"
     ]
    }
   ],
   "source": [
    "a = 22\n",
    "b = 7\n",
    "print(f\"Please enter the first integer: {a}\")\n",
    "print(f\"Please enter the second integer: {b}\")\n",
    "gcd_value, x_value, y_value = gcd(a, b);\n",
    "print(f'The GCD of {a} and {b} is {gcd_value}.')\n",
    "print(f'{gcd_value} = {x_value} * {a} + {y_value} * {b}')"
   ]
  },
  {
   "cell_type": "code",
   "execution_count": null,
   "metadata": {},
   "outputs": [],
   "source": [
    "a = int(input(\"Please enter the first integer:\"))\n",
    "b = int(input(\"Please enter the second integer:\"))\n",
    "gcd_value, x_value, y_value = gcd(a, b);\n",
    "print(f'The GCD of {a} and {b} is {gcd_value}.')\n",
    "print(f'{gcd_value} = {x_value} * {a} + {y_value} * {b}')"
   ]
  },
  {
   "cell_type": "markdown",
   "metadata": {},
   "source": [
    "## (B) GCD and multiplicative inverse"
   ]
  },
  {
   "cell_type": "code",
   "execution_count": 13,
   "metadata": {},
   "outputs": [],
   "source": [
    "from task2_b import inverse_list"
   ]
  },
  {
   "cell_type": "code",
   "execution_count": 14,
   "metadata": {},
   "outputs": [
    {
     "name": "stdout",
     "output_type": "stream",
     "text": [
      "Please enter the integer N: 12\n",
      "gcd(12, 0) = 12 = 1 * 12 + 0 * 0\n",
      "gcd(12, 1) = 1 = 0 * 12 + 1 * 1\n",
      "(inverse of 1 = 1)\n",
      "gcd(12, 2) = 2 = 0 * 12 + 1 * 2\n",
      "gcd(12, 3) = 3 = 0 * 12 + 1 * 3\n",
      "gcd(12, 4) = 4 = 0 * 12 + 1 * 4\n",
      "gcd(12, 5) = 1 = -2 * 12 + 5 * 5\n",
      "(inverse of 5 = 5)\n",
      "gcd(12, 6) = 6 = 0 * 12 + 1 * 6\n",
      "gcd(12, 7) = 1 = 3 * 12 + -5 * 7\n",
      "(inverse of 7 = 7)\n",
      "gcd(12, 8) = 4 = 1 * 12 + -1 * 8\n",
      "gcd(12, 9) = 3 = 1 * 12 + -1 * 9\n",
      "gcd(12, 10) = 2 = 1 * 12 + -1 * 10\n",
      "gcd(12, 11) = 1 = 1 * 12 + -1 * 11\n",
      "(inverse of 11 = 11)\n",
      "(Z/12Z)* = [1, 5, 7, 11]\n"
     ]
    },
    {
     "data": {
      "text/plain": [
       "[1, 5, 7, 11]"
      ]
     },
     "execution_count": 14,
     "metadata": {},
     "output_type": "execute_result"
    }
   ],
   "source": [
    "N = 12\n",
    "print(f\"Please enter the integer N: {N}\")\n",
    "inverse_list(N)"
   ]
  },
  {
   "cell_type": "code",
   "execution_count": 15,
   "metadata": {},
   "outputs": [
    {
     "name": "stdout",
     "output_type": "stream",
     "text": [
      "gcd(13, 0) = 13 = 1 * 13 + 0 * 0\n",
      "gcd(13, 1) = 1 = 0 * 13 + 1 * 1\n",
      "(inverse of 1 = 1)\n",
      "gcd(13, 2) = 1 = 1 * 13 + -6 * 2\n",
      "(inverse of 2 = 2)\n",
      "gcd(13, 3) = 1 = 1 * 13 + -4 * 3\n",
      "(inverse of 3 = 3)\n",
      "gcd(13, 4) = 1 = 1 * 13 + -3 * 4\n",
      "(inverse of 4 = 4)\n",
      "gcd(13, 5) = 1 = 2 * 13 + -5 * 5\n",
      "(inverse of 5 = 5)\n",
      "gcd(13, 6) = 1 = 1 * 13 + -2 * 6\n",
      "(inverse of 6 = 6)\n",
      "gcd(13, 7) = 1 = -1 * 13 + 2 * 7\n",
      "(inverse of 7 = 7)\n",
      "gcd(13, 8) = 1 = -3 * 13 + 5 * 8\n",
      "(inverse of 8 = 8)\n",
      "gcd(13, 9) = 1 = -2 * 13 + 3 * 9\n",
      "(inverse of 9 = 9)\n",
      "gcd(13, 10) = 1 = -3 * 13 + 4 * 10\n",
      "(inverse of 10 = 10)\n",
      "gcd(13, 11) = 1 = -5 * 13 + 6 * 11\n",
      "(inverse of 11 = 11)\n",
      "gcd(13, 12) = 1 = 1 * 13 + -1 * 12\n",
      "(inverse of 12 = 12)\n",
      "(Z/13Z)* = [1, 2, 3, 4, 5, 6, 7, 8, 9, 10, 11, 12]\n"
     ]
    },
    {
     "data": {
      "text/plain": [
       "[1, 2, 3, 4, 5, 6, 7, 8, 9, 10, 11, 12]"
      ]
     },
     "execution_count": 15,
     "metadata": {},
     "output_type": "execute_result"
    }
   ],
   "source": [
    "N = int(input(\"Please enter the integer N:\"))\n",
    "inverse_list(N)"
   ]
  }
 ],
 "metadata": {
  "kernelspec": {
   "display_name": "base",
   "language": "python",
   "name": "python3"
  },
  "language_info": {
   "codemirror_mode": {
    "name": "ipython",
    "version": 3
   },
   "file_extension": ".py",
   "mimetype": "text/x-python",
   "name": "python",
   "nbconvert_exporter": "python",
   "pygments_lexer": "ipython3",
   "version": "3.12.4"
  }
 },
 "nbformat": 4,
 "nbformat_minor": 2
}
