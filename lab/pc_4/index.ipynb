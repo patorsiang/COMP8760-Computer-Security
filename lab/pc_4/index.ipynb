{
 "cells": [
  {
   "cell_type": "markdown",
   "metadata": {},
   "source": [
    "# Class 4"
   ]
  },
  {
   "cell_type": "markdown",
   "metadata": {},
   "source": [
    "## The Numpy Version"
   ]
  },
  {
   "cell_type": "code",
   "execution_count": null,
   "metadata": {},
   "outputs": [],
   "source": [
    "import numpy as np\n",
    "import pandas as pd"
   ]
  },
  {
   "cell_type": "code",
   "execution_count": null,
   "metadata": {},
   "outputs": [],
   "source": [
    "# Function to read vectors from a file\n",
    "def read_vectors(filename):\n",
    "    vectors = np.loadtxt(filename, dtype=int)\n",
    "    return vectors.T  # Transpose to make columns as vectors\n",
    "\n",
    "# Load vectors from a file (replace 'filename.txt' with the actual file path)\n",
    "vectors = read_vectors(\n",
    "    'latt_n5_Mersene11.txt'\n",
    "    # 'latt_n5_Mersene19.txt'\n",
    "    )\n",
    "\n",
    "print(vectors)"
   ]
  },
  {
   "cell_type": "markdown",
   "metadata": {},
   "source": [
    "### Task 1: Length of a vector"
   ]
  },
  {
   "cell_type": "code",
   "execution_count": null,
   "metadata": {},
   "outputs": [],
   "source": [
    "def compute_l2_norm_squared(vectors):\n",
    "    return np.sum(vectors**2, axis=1)\n",
    "\n",
    "l2_norms_squared = compute_l2_norm_squared(vectors)\n",
    "l2_norms_df = pd.DataFrame(l2_norms_squared, columns=['L2 Norm Squared']).T\n",
    "print(\"L2 Norm Squared for Each Vector:\\n\", l2_norms_df)"
   ]
  },
  {
   "cell_type": "markdown",
   "metadata": {},
   "source": [
    "### Task 2: Inner product of vectors"
   ]
  },
  {
   "cell_type": "code",
   "execution_count": null,
   "metadata": {},
   "outputs": [],
   "source": [
    "def compute_inner_products(vectors):\n",
    "    n = vectors.shape[1]\n",
    "    inner_products = np.zeros((n, n), dtype=int)\n",
    "    for i in range(n):\n",
    "        for j in range(i, n):\n",
    "            inner_product = np.dot(vectors[i], vectors[j])\n",
    "            inner_products[i, j] = inner_product\n",
    "            inner_products[j, i] = inner_product  # Symmetric matrix\n",
    "    return inner_products\n",
    "\n",
    "inner_products = compute_inner_products(vectors)\n",
    "inner_products_df = pd.DataFrame(inner_products, columns=[f\"b{i+1}\" for i in range(inner_products.shape[1])],\n",
    "                                 index=[f\"b{i+1}\" for i in range(inner_products.shape[0])])\n",
    "print(\"\\nInner Products Matrix:\\n\", inner_products_df)"
   ]
  },
  {
   "cell_type": "markdown",
   "metadata": {},
   "source": [
    "### Task 3: Gram-schmidt orthogonalisation (GSO) vector"
   ]
  },
  {
   "cell_type": "code",
   "execution_count": null,
   "metadata": {},
   "outputs": [],
   "source": [
    "def gram_schmidt(vectors):\n",
    "    vectors = np.array(vectors, dtype=float)  # Ensure vectors is a NumPy array\n",
    "    n, m = vectors.shape  # n is the number of vectors (rows), m is the dimension of each vector\n",
    "    gs_vectors = np.zeros((n, m), dtype=float)  # Initialize array for orthogonalized vectors\n",
    "\n",
    "    for i in range(n):\n",
    "        vi = vectors[i].copy()  # Copy current vector row\n",
    "\n",
    "        for j in range(i):\n",
    "            # Project vi onto gs_vectors[j] (using row-wise indexing)\n",
    "            projection = np.dot(vi, gs_vectors[j]) / np.dot(gs_vectors[j], gs_vectors[j]) if np.dot(gs_vectors[j], gs_vectors[j]) != 0 else 0\n",
    "            vi -= projection * gs_vectors[j]  # Subtract projection from vi\n",
    "\n",
    "        gs_vectors[i] = vi  # Store the orthogonalized vector\n",
    "\n",
    "    return gs_vectors\n",
    "\n",
    "gs_vectors = gram_schmidt(vectors)\n",
    "gs_vectors_df = pd.DataFrame(gs_vectors, columns=[f\"b*{i+1}\" for i in range(gs_vectors.shape[1])])\n",
    "print(\"\\nGram-Schmidt Orthogonalized Vectors:\\n\", gs_vectors_df)"
   ]
  },
  {
   "cell_type": "markdown",
   "metadata": {},
   "source": [
    "### Task 4: General projection of vectors"
   ]
  },
  {
   "cell_type": "code",
   "execution_count": null,
   "metadata": {},
   "outputs": [],
   "source": [
    "def compute_projections(vectors, gs_vectors):\n",
    "    n = vectors.shape[1]\n",
    "    projections = {}\n",
    "    for k in range(n):\n",
    "        for i in range(k):\n",
    "            projection = gs_vectors[k].copy()\n",
    "            for j in range(i):\n",
    "                mu = np.dot(vectors[k], gs_vectors[j]) / np.dot(gs_vectors[j], gs_vectors[j])\n",
    "                projection -= mu * gs_vectors[j]\n",
    "            projections[(i, k)] = projection\n",
    "    return projections\n",
    "\n",
    "projections = compute_projections(vectors, gs_vectors)\n",
    "for (i, k), proj in projections.items():\n",
    "    print(f\"Projection of vector {k} with respect to vector {i}:\\n\", proj)"
   ]
  },
  {
   "cell_type": "markdown",
   "metadata": {},
   "source": [
    "## Without Numpy"
   ]
  },
  {
   "cell_type": "code",
   "execution_count": 1,
   "metadata": {},
   "outputs": [
    {
     "name": "stdout",
     "output_type": "stream",
     "text": [
      "[1330, 0, 0, 0, 0]\n",
      "[454, 544, 0, 0, 0]\n",
      "[1637, 107, 165, 0, 0]\n",
      "[1624, 248, 1921, 1901, 0]\n",
      "[1272, 1939, 429, 686, 1733]\n"
     ]
    }
   ],
   "source": [
    "\n",
    "def read_vectors(filename):\n",
    "    vectors = []\n",
    "    with open(filename, 'r') as file:\n",
    "        for line in file:\n",
    "            # Split line into integers and add as a column vector\n",
    "            vector = [int(num) for num in line.strip().split()]\n",
    "            vectors.append(vector)\n",
    "    # Transpose the list of lists to make columns as vectors\n",
    "    return [list(col) for col in zip(*vectors)]\n",
    "\n",
    "vectors = read_vectors(\n",
    "    'latt_n5_Mersene11.txt'\n",
    "    # 'latt_n5_Mersene19.txt'\n",
    "    )\n",
    "\n",
    "for i in vectors:\n",
    "    print(i)"
   ]
  },
  {
   "cell_type": "markdown",
   "metadata": {},
   "source": [
    "### Task 1: Length of a vector"
   ]
  },
  {
   "cell_type": "code",
   "execution_count": 2,
   "metadata": {},
   "outputs": [],
   "source": [
    "def norm_square(vector):\n",
    "    return sum([x * x for x in vector])\n",
    "\n",
    "def compute_l2_norm_squared(vectors):\n",
    "    l2_norms_squared = []\n",
    "    for vector in vectors:\n",
    "        l2_norms_squared.append(norm_square(vector))\n",
    "    return l2_norms_squared\n",
    "\n",
    "def print_l2_norms(l2_norms_squared):\n",
    "    print(\"\\nL2 Norm Squared for Each Vector\")\n",
    "    print(\"-\" * 35)\n",
    "    for i, norm in enumerate(l2_norms_squared, 1):\n",
    "        print(f\"b{i}: {norm:.2f}\")"
   ]
  },
  {
   "cell_type": "code",
   "execution_count": 3,
   "metadata": {},
   "outputs": [
    {
     "name": "stdout",
     "output_type": "stream",
     "text": [
      "\n",
      "L2 Norm Squared for Each Vector\n",
      "-----------------------------------\n",
      "b1: 1768900.00\n",
      "b2: 502052.00\n",
      "b3: 2718443.00\n",
      "b4: 10002922.00\n",
      "b5: 9035631.00\n"
     ]
    }
   ],
   "source": [
    "l2_norms_squared = compute_l2_norm_squared(vectors)\n",
    "print_l2_norms(l2_norms_squared)"
   ]
  },
  {
   "cell_type": "markdown",
   "metadata": {},
   "source": [
    "### Task 2: Inner pro duct of vectors"
   ]
  },
  {
   "cell_type": "code",
   "execution_count": 4,
   "metadata": {},
   "outputs": [],
   "source": [
    "def inner_product(v1, v2):\n",
    "    return sum([i * j for i, j in zip(v1, v2)])  # Use zip to pair corresponding elements\n",
    "\n",
    "def compute_inner_products(vectors):\n",
    "    n = len(vectors)\n",
    "    inner_products_matrix = [[0] * n for _ in range(n)]  # Renamed to avoid conflict\n",
    "    for i in range(n):\n",
    "        for j in range(i, n):\n",
    "            # Call the helper function inner_product with vectors[i] and vectors[j]\n",
    "            inner_product_value = inner_product(vectors[i], vectors[j])\n",
    "            inner_products_matrix[i][j] = inner_product_value\n",
    "            inner_products_matrix[j][i] = inner_product_value  # Symmetric matrix\n",
    "    return inner_products_matrix\n",
    "\n",
    "def print_inner_products(inner_products):\n",
    "    print(\"\\nInner Products Matrix\")\n",
    "    print(\"-\" * 50)\n",
    "    # Create headers\n",
    "    headers = [f\"b{i+1}\" for i in range(len(inner_products))]\n",
    "    print(\"     \" + \" | \".join(header.center(8) for header in headers))\n",
    "    print(\"-\" * 50)\n",
    "\n",
    "    # Print each row\n",
    "    for i, row in enumerate(inner_products):\n",
    "        row_str = \" | \".join(f\"{value:.2f}\".center(8) for value in row)\n",
    "        print(f\"b{i+1}\".ljust(5) + row_str)\n"
   ]
  },
  {
   "cell_type": "code",
   "execution_count": 5,
   "metadata": {},
   "outputs": [
    {
     "name": "stdout",
     "output_type": "stream",
     "text": [
      "\n",
      "Inner Products Matrix\n",
      "--------------------------------------------------\n",
      "        b1    |    b2    |    b3    |    b4    |    b5   \n",
      "--------------------------------------------------\n",
      "b1   1768900.00 | 603820.00 | 2177210.00 | 2159920.00 | 1691760.00\n",
      "b2   603820.00 | 502052.00 | 801406.00 | 872208.00 | 1632304.00\n",
      "b3   2177210.00 | 801406.00 | 2718443.00 | 3001989.00 | 2360522.00\n",
      "b4   2159920.00 | 872208.00 | 3001989.00 | 10002922.00 | 4674795.00\n",
      "b5   1691760.00 | 1632304.00 | 2360522.00 | 4674795.00 | 9035631.00\n"
     ]
    }
   ],
   "source": [
    "inner_products = compute_inner_products(vectors)\n",
    "print_inner_products(inner_products)"
   ]
  },
  {
   "cell_type": "markdown",
   "metadata": {},
   "source": [
    "### Task 3: Gram-Schmidt orthogonalisation (GSO) vectors"
   ]
  },
  {
   "cell_type": "code",
   "execution_count": 6,
   "metadata": {},
   "outputs": [],
   "source": [
    "def gram_schmidt(vectors):\n",
    "    n = len(vectors)  # Number of vectors\n",
    "    gs_vectors = [[0] * len(vectors[0]) for _ in range(n)]\n",
    "\n",
    "    for i in range(n):\n",
    "        # Start with the current vector\n",
    "        vi = vectors[i][:]\n",
    "\n",
    "        for j in range(i):\n",
    "            # Project vi onto gs_vectors[j]\n",
    "            dot_product = inner_product(vi, gs_vectors[j])\n",
    "            gs_norm_squared = norm_square(gs_vectors[j])\n",
    "\n",
    "            if gs_norm_squared != 0:  # Avoid division by zero\n",
    "                # Calculate projection and subtract it from vi\n",
    "                projection = [dot_product / gs_norm_squared * gs_vectors[j][k] for k in range(len(vi))]\n",
    "                vi = [vi[k] - projection[k] for k in range(len(vi))]\n",
    "\n",
    "        # After all projections are removed, vi is now orthogonal to previous vectors\n",
    "        gs_vectors[i] = vi\n",
    "\n",
    "    return gs_vectors\n",
    "\n",
    "# Function to print the Gram-Schmidt orthogonalized vectors\n",
    "def print_original_vectors(vectors):\n",
    "    print(\"\\nOriginal Vectors in Expected Format\")\n",
    "    print(\"-\" * 50)\n",
    "    headers = [f\"b*{i+1}\" for i in range(len(vectors[0]))]\n",
    "    print(\"     \" + \" | \".join(header.center(8) for header in headers))\n",
    "    print(\"-\" * 50)\n",
    "\n",
    "    for i, row in enumerate(vectors):\n",
    "        row_str = \" | \".join(f\"{value:.2f}\".center(8) for value in row)\n",
    "        print(f\"b{i+1}\".ljust(5) + row_str)"
   ]
  },
  {
   "cell_type": "code",
   "execution_count": 7,
   "metadata": {},
   "outputs": [
    {
     "name": "stdout",
     "output_type": "stream",
     "text": [
      "\n",
      "Original Vectors in Expected Format\n",
      "--------------------------------------------------\n",
      "       b*1    |   b*2    |   b*3    |   b*4    |   b*5   \n",
      "--------------------------------------------------\n",
      "b1   1330.00  |   0.00   |   0.00   |   0.00   |   0.00  \n",
      "b2     0.00   |  544.00  |   0.00   |   0.00   |   0.00  \n",
      "b3     0.00   |   0.00   |  165.00  |   0.00   |   0.00  \n",
      "b4    -0.00   |   0.00   |   0.00   | 1901.00  |   0.00  \n",
      "b5     0.00   |   0.00   |   0.00   |   0.00   | 1733.00 \n"
     ]
    }
   ],
   "source": [
    "gs_vectors = gram_schmidt(vectors)\n",
    "print_original_vectors(gs_vectors)"
   ]
  },
  {
   "cell_type": "markdown",
   "metadata": {},
   "source": [
    "### Task 4: General pro jection of vectors"
   ]
  },
  {
   "cell_type": "code",
   "execution_count": null,
   "metadata": {},
   "outputs": [],
   "source": [
    "def compute_projections(vectors, gs_vectors):\n",
    "    n = len(vectors)  # Number of vectors (rows)\n",
    "    projections = {}  # Dictionary to store projections\n",
    "\n",
    "    for k in range(1, n):  # Start from the second vector (index 1) because the first vector has no predecessors\n",
    "        for i in range(k):  # Iterate over each predecessor vector up to (but not including) k\n",
    "            # Calculate the projection of vector k onto gs_vectors[i]\n",
    "            mu = inner_product(vectors[k], gs_vectors[i]) / inner_product(gs_vectors[i], gs_vectors[i])\n",
    "            projection = [mu * gs_vectors[i][j] for j in range(len(gs_vectors[i]))]  # Scale gs_vectors[i] by mu\n",
    "            projections[(i, k)] = projection  # Store the projection result\n",
    "\n",
    "    return projections"
   ]
  },
  {
   "cell_type": "code",
   "execution_count": 10,
   "metadata": {},
   "outputs": [
    {
     "name": "stdout",
     "output_type": "stream",
     "text": [
      "Projection of vector 1 with respect to vector 0:\n",
      " [454.0, 0.0, 0.0, 0.0, 0.0]\n",
      "Projection of vector 2 with respect to vector 0:\n",
      " [1636.9999999999998, 0.0, 0.0, 0.0, 0.0]\n",
      "Projection of vector 2 with respect to vector 1:\n",
      " [0.0, 107.0, 0.0, 0.0, 0.0]\n",
      "Projection of vector 3 with respect to vector 0:\n",
      " [1624.0, 0.0, 0.0, 0.0, 0.0]\n",
      "Projection of vector 3 with respect to vector 1:\n",
      " [0.0, 248.0, 0.0, 0.0, 0.0]\n",
      "Projection of vector 3 with respect to vector 2:\n",
      " [2.6471807910693894e-12, 0.0, 1921.000000000002, 0.0, 0.0]\n",
      "Projection of vector 4 with respect to vector 0:\n",
      " [1272.0, 0.0, 0.0, 0.0, 0.0]\n",
      "Projection of vector 4 with respect to vector 1:\n",
      " [0.0, 1939.0, 0.0, 0.0, 0.0]\n",
      "Projection of vector 4 with respect to vector 2:\n",
      " [5.911715561524058e-13, 0.0, 429.00000000000176, 0.0, 0.0]\n",
      "Projection of vector 4 with respect to vector 3:\n",
      " [-9.552688178188294e-13, 0.0, 0.0, 685.9999999999983, 0.0]\n"
     ]
    }
   ],
   "source": [
    "projections = compute_projections(vectors, gs_vectors)\n",
    "for (i, k), proj in projections.items():\n",
    "    print(f\"Projection of vector {k} with respect to vector {i}:\\n\", proj)"
   ]
  },
  {
   "cell_type": "code",
   "execution_count": null,
   "metadata": {},
   "outputs": [],
   "source": []
  }
 ],
 "metadata": {
  "kernelspec": {
   "display_name": "com-sec",
   "language": "python",
   "name": "python3"
  },
  "language_info": {
   "codemirror_mode": {
    "name": "ipython",
    "version": 3
   },
   "file_extension": ".py",
   "mimetype": "text/x-python",
   "name": "python",
   "nbconvert_exporter": "python",
   "pygments_lexer": "ipython3",
   "version": "3.12.7"
  }
 },
 "nbformat": 4,
 "nbformat_minor": 2
}
