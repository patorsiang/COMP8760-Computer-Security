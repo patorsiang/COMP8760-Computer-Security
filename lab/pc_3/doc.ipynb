{
 "cells": [
  {
   "cell_type": "markdown",
   "metadata": {},
   "source": [
    "# COMP8760 2024-25 Toychain Class"
   ]
  },
  {
   "cell_type": "code",
   "execution_count": null,
   "metadata": {},
   "outputs": [],
   "source": [
    "import hashlib\n",
    "\n",
    "prev_hash = \"your_previous_hash\"\n",
    "name = \"your_name\"\n",
    "nonce = 0\n",
    "i = 1\n",
    "while True:\n",
    "  test = f\"{prev_hash}{name}{nonce}\"\n",
    "  result = hashlib.sha256(test.encode()).hexdigest()\n",
    "  if result.startswith(\"0\"*i):\n",
    "    print(test)\n",
    "    print(result)\n",
    "    print(nonce)\n",
    "  nonce += 1"
   ]
  },
  {
   "cell_type": "code",
   "execution_count": null,
   "metadata": {},
   "outputs": [],
   "source": [
    "import hashlib\n",
    "import concurrent.futures\n",
    "\n",
    "# Define your initial input\n",
    "prev_hash = \"previous_hash\"\n",
    "name = \"name\"\n",
    "leading_zeros = 1  # Number of leading zeros required\n",
    "found = False  # Shared flag to stop other threads when a result is found\n",
    "\n",
    "# Define a worker function to search for the hash with leading zeros\n",
    "def find_hash(start_nonce, step):\n",
    "    global found\n",
    "    nonce = start_nonce\n",
    "    target_prefix = \"0\" * leading_zeros\n",
    "\n",
    "    while not found:\n",
    "        test = f\"{prev_hash}{name}{nonce}\"\n",
    "        result = hashlib.sha256(test.encode()).hexdigest()\n",
    "\n",
    "        if result.startswith(target_prefix):\n",
    "            found = True\n",
    "            print(f\"Found hash: {result}\")\n",
    "            print(f\"Nonce: {nonce}\")\n",
    "            return result, nonce\n",
    "\n",
    "        nonce += step  # Each thread jumps by `step` to avoid overlapping nonces\n",
    "\n",
    "    return None, None\n",
    "\n",
    "# Run the hashing search in parallel\n",
    "num_threads = 4  # Adjust based on the number of CPU cores available\n",
    "with concurrent.futures.ThreadPoolExecutor(max_workers=num_threads) as executor:\n",
    "    # Each thread starts at a different nonce and skips by `num_threads` each time\n",
    "    futures = [executor.submit(find_hash, i, num_threads) for i in range(num_threads)]\n",
    "\n",
    "    for future in concurrent.futures.as_completed(futures):\n",
    "        result, nonce = future.result()\n",
    "        if result:\n",
    "            break  # Stop once we find a valid hash"
   ]
  }
 ],
 "metadata": {
  "kernelspec": {
   "display_name": "base",
   "language": "python",
   "name": "python3"
  },
  "language_info": {
   "codemirror_mode": {
    "name": "ipython",
    "version": 3
   },
   "file_extension": ".py",
   "mimetype": "text/x-python",
   "name": "python",
   "nbconvert_exporter": "python",
   "pygments_lexer": "ipython3",
   "version": "3.12.2"
  }
 },
 "nbformat": 4,
 "nbformat_minor": 2
}
