{
 "cells": [
  {
   "cell_type": "markdown",
   "metadata": {},
   "source": [
    "# Class 17"
   ]
  },
  {
   "cell_type": "markdown",
   "metadata": {},
   "source": [
    "## libraries"
   ]
  },
  {
   "cell_type": "code",
   "execution_count": 2,
   "metadata": {},
   "outputs": [],
   "source": [
    "import sqlite3\n",
    "import random\n",
    "import hashlib\n",
    "import time"
   ]
  },
  {
   "cell_type": "markdown",
   "metadata": {},
   "source": [
    "## Exercise 1: Implement emoji support in passwords using UTF-8 encoding. If your command line doesn't support emojis, consider a web-based solution."
   ]
  },
  {
   "cell_type": "code",
   "execution_count": 3,
   "metadata": {},
   "outputs": [],
   "source": [
    "def connect ():\n",
    "  try:\n",
    "    conn = sqlite3.connect('users.db', timeout=100)  # Set a timeout to avoid locking\n",
    "    c = conn.cursor()\n",
    "    c.execute('''CREATE TABLE IF NOT EXISTS users\n",
    "               (username TEXT UNIQUE, password TEXT, salt TEXT)''')\n",
    "    conn.commit()\n",
    "    return conn\n",
    "  except sqlite3.OperationalError as e:\n",
    "    print(f\"Database error: {e}\")\n",
    "    return None\n",
    "\n",
    "def hash_password_with_salt (password, salt=random.randint(0, 100)):\n",
    "  salt = str(salt)\n",
    "  password += str(salt)\n",
    "  password = password.encode('utf-8')\n",
    "  hashed_password = hashlib.sha256(password).hexdigest()\n",
    "  return hashed_password, salt\n",
    "\n",
    "def register (username, password):\n",
    "  conn = connect()\n",
    "  password_hash, salt = hash_password_with_salt(password)\n",
    "  c = conn.cursor()\n",
    "  try:\n",
    "    c.execute(\"INSERT INTO users VALUES (?,?,?)\", (username, password_hash, salt))\n",
    "    conn.commit()\n",
    "    print(f\"{username} is registered completely\")\n",
    "  except sqlite3.IntegrityError as e:\n",
    "    print(f\"Database error: {e}\")\n",
    "  finally:\n",
    "    close_connect(conn)\n",
    "\n",
    "def login (username, password):\n",
    "  conn = connect()\n",
    "  c = conn.cursor()\n",
    "  c.execute(\"SELECT * FROM users WHERE username=?\", (username,))\n",
    "  user = c.fetchone()\n",
    "  close_connect(conn)\n",
    "  if user:\n",
    "    salt = user[2]\n",
    "    hashed_password, _ = hash_password_with_salt(password, salt)\n",
    "    if hashed_password == user[1]:\n",
    "      return True\n",
    "  return False\n",
    "\n",
    "def close_connect(conn):\n",
    "  if conn:\n",
    "    conn.close()"
   ]
  },
  {
   "cell_type": "code",
   "execution_count": 4,
   "metadata": {},
   "outputs": [
    {
     "name": "stdout",
     "output_type": "stream",
     "text": [
      "Database error: UNIQUE constraint failed: users.username\n",
      "True\n",
      "False\n"
     ]
    }
   ],
   "source": [
    "# test registration\n",
    "register('user1', 'password1✅')\n",
    "print(login('user1', 'password1✅')) # True\n",
    "print(login('user1', 'password1')) # False"
   ]
  },
  {
   "cell_type": "markdown",
   "metadata": {},
   "source": [
    "## Exercise 2: Write two functions for user registration and login using a local file as a password."
   ]
  },
  {
   "cell_type": "code",
   "execution_count": 5,
   "metadata": {},
   "outputs": [
    {
     "name": "stdout",
     "output_type": "stream",
     "text": [
      "Login successful!\n",
      "Login failed!\n"
     ]
    }
   ],
   "source": [
    "def register_user(file_path):\n",
    "    with open(file_path, 'rb') as f:\n",
    "        file_content = f.read()\n",
    "    password_hash = hashlib.sha256(file_content).hexdigest()\n",
    "    return password_hash\n",
    "\n",
    "def login_user(file_path, registered_hash):\n",
    "    with open(file_path, 'rb') as f:\n",
    "        file_content = f.read()\n",
    "    login_hash = hashlib.sha256(file_content).hexdigest()\n",
    "    return login_hash == registered_hash\n",
    "\n",
    "def output(is_authenticated):\n",
    "    print(\"Login successful!\" if is_authenticated else \"Login failed!\")\n",
    "# Demonstration\n",
    "registered_file = 'registered_file.txt'\n",
    "registered_hash = register_user(registered_file)\n",
    "\n",
    "output(login_user(file_path=\"login_file.txt\", registered_hash=registered_hash))\n",
    "output(login_user(file_path=\"wrong_file.txt\", registered_hash=registered_hash))\n"
   ]
  },
  {
   "cell_type": "markdown",
   "metadata": {},
   "source": [
    "## Exercise 3: Implement a one-time password (OTP) generator using a hashing function, including scripts for registration and login."
   ]
  },
  {
   "cell_type": "code",
   "execution_count": 6,
   "metadata": {},
   "outputs": [
    {
     "name": "stdout",
     "output_type": "stream",
     "text": [
      "Generated OTP: 1f9d11\n",
      "Login failed!\n"
     ]
    }
   ],
   "source": [
    "class OTPSystem:\n",
    "    def __init__(self, password, salt):\n",
    "        self.password = password\n",
    "        self.salt = salt\n",
    "        self.hsp = self.hash_password()\n",
    "\n",
    "    def hash_password(self):\n",
    "        return hashlib.sha256((self.password + self.salt).encode()).hexdigest()\n",
    "\n",
    "    def update_hsp(self):\n",
    "        current_time = str(int(time.time()))\n",
    "        self.hsp = hashlib.sha256((self.hsp + current_time).encode()).hexdigest()\n",
    "\n",
    "    def generate_otp(self):\n",
    "        return self.hsp[-6:]\n",
    "\n",
    "    def verify_otp(self, otp):\n",
    "        return otp == self.generate_otp()\n",
    "\n",
    "# Demonstration\n",
    "otp_system = OTPSystem(password=\"mypassword\", salt=\"mysalt\")\n",
    "otp_system.update_hsp()\n",
    "otp = otp_system.generate_otp()\n",
    "print(f\"Generated OTP: {otp}\")\n",
    "\n",
    "# Verify OTP\n",
    "user_otp = input(\"Enter OTP: \")\n",
    "if otp_system.verify_otp(user_otp):\n",
    "    print(\"Login successful!\")\n",
    "else:\n",
    "    print(\"Login failed!\")\n"
   ]
  },
  {
   "cell_type": "markdown",
   "metadata": {},
   "source": [
    "## Exercise 4: Evaluate the performance of a biometric authentication system by calculating the False Accept Rate (FAR) and False Reject Rate (FRR) based on given data for Alice and Eve."
   ]
  },
  {
   "cell_type": "code",
   "execution_count": 7,
   "metadata": {},
   "outputs": [],
   "source": [
    "# Data for Alice (genuine user) and Eve (attacker)\n",
    "alice_data = [\n",
    "    0.27, 0.079, 0.27, 0.36, 0.25, 0.3, 0.27, 0.17, 0.23, 0.12, 0.29, 0.085, 0.093, 0.12, 0, 0.34, 0.23, 0.12,\n",
    "    0.34, 0.029, 0.19, 0.18, 0.23, 0.23, 0.11, 0.2, 0.18, 0.26, 0.31, 0.31, 0.11, 0.21, 0.079, 0.089, 0.2, 0.35,\n",
    "    0.12, 0.24, 0.18, 0.31, 0.091, 0.2, 0.26, 0.31, 0.35, 0.21, 0.051, 0.13, 0.094, 0.44, 0.14, 0.27, 0.18, 0.29,\n",
    "    0.12, 0.06, 0.058, 0.25, 0.18, 0.18, 0.34, 0.23, 0.22, 0.36, 0.12, 0.27, 0.28, 0.18, 0.22, 0.083, 0.085, 0.21,\n",
    "    0.27, 0.46, 0.13, 0.22, 0.19, 0.0067, 0.16, 0.021, 0.28, 0.11, 0.21, 0.15, 0.23, 0.14, 0.25, 0.27, 0.37, 0.18,\n",
    "    0, 0.12, 0.34, 0.093, 0.3, 0.21, 0.34, 0.0039, 0.18, 0.079\n",
    "]\n",
    "eve_data = [\n",
    "    1.2, 0.77, 0.88, 0.39, 0.51, 0.55, 0.82, 0.54, 0.74, 0.19, 0.53, 0.44, 0.28, 0.7, 0.66, 0.61, 0.33, 0.83,\n",
    "    0.67, 0.54, 0.6, 0.55, 0.25, 0.54, 0.43, 0.4, 0.37, 0.49, 0.2, 0.79, 0.7, 0.6, 0.59, 0.44, 0.8, 0.57, 0.46,\n",
    "    0.87, 0.56, 0.48, 0.54, 0.43, 0.38, 1.1, 0.93, 0.66, 0.35, 0.43, 0.56, 0.76, 0.33, 0.13, 0.31, 0.67, 0.68,\n",
    "    0.69, 0.57, 0.64, 0.5, 0.77, 0.33, 0.69, 0.43, 0.53, 0.71, 0.81, 0.38, 0.85, 0.73, 0.59, 0.56, 0.56, 0.54,\n",
    "    0.6, 0.61, 0.77, 0.91, 0.69, 0.56, 0.73, 0.64, 0.39, 0.79, 0.66, 0.63, 0.7, 0.65, 0.41, 0.57, 0.57, 0.49,\n",
    "    0.94, 0.42, 0.5, 0.46, 0.37, 0.56, 0.55, 0.91, 0.55\n",
    "]\n",
    "\n",
    "def print_stats(thresholds):\n",
    "    for threshold in thresholds:\n",
    "        frr = len([x for x in alice_data if x >= threshold]) / len(alice_data) * 100\n",
    "        far = len([x for x in eve_data if x < threshold]) / len(eve_data) * 100\n",
    "        print(f\"Threshold: {threshold}, FAR: {far:.2f}%, FRR: {frr:.2f}%\")\n"
   ]
  },
  {
   "cell_type": "code",
   "execution_count": 8,
   "metadata": {},
   "outputs": [
    {
     "name": "stdout",
     "output_type": "stream",
     "text": [
      "Threshold: 0.25, FAR: 3.00%, FRR: 34.00%\n",
      "Threshold: 0.3, FAR: 5.00%, FRR: 18.00%\n",
      "Threshold: 0.35, FAR: 9.00%, FRR: 7.00%\n",
      "Threshold: 0.4, FAR: 16.00%, FRR: 2.00%\n",
      "Threshold: 0.45, FAR: 25.00%, FRR: 1.00%\n",
      "Threshold: 0.5, FAR: 30.00%, FRR: 0.00%\n",
      "Threshold: 0.55, FAR: 40.00%, FRR: 0.00%\n"
     ]
    }
   ],
   "source": [
    "# recommend one\n",
    "thresholds = [0.25, 0.3, 0.35, 0.4, 0.45, 0.5, 0.55]\n",
    "print_stats(thresholds)"
   ]
  },
  {
   "cell_type": "code",
   "execution_count": 9,
   "metadata": {},
   "outputs": [
    {
     "name": "stdout",
     "output_type": "stream",
     "text": [
      "Threshold: 0.2, FAR: 2.00%, FRR: 52.00%\n",
      "Threshold: 0.27, FAR: 4.00%, FRR: 29.00%\n",
      "Threshold: 0.35, FAR: 9.00%, FRR: 7.00%\n",
      "Threshold: 0.42, FAR: 18.00%, FRR: 2.00%\n",
      "Threshold: 0.5, FAR: 30.00%, FRR: 0.00%\n",
      "Threshold: 0.57, FAR: 50.00%, FRR: 0.00%\n",
      "Threshold: 0.65, FAR: 64.00%, FRR: 0.00%\n"
     ]
    }
   ],
   "source": [
    "thresholds = [0.20, 0.27, 0.35, 0.42, 0.50, 0.57, 0.65]\n",
    "print_stats(thresholds)"
   ]
  },
  {
   "cell_type": "code",
   "execution_count": 10,
   "metadata": {},
   "outputs": [
    {
     "name": "stdout",
     "output_type": "stream",
     "text": [
      "Threshold: 0.1, FAR: 0.00%, FRR: 80.00%\n",
      "Threshold: 0.15, FAR: 1.00%, FRR: 66.00%\n",
      "Threshold: 0.2, FAR: 2.00%, FRR: 52.00%\n",
      "Threshold: 0.25, FAR: 3.00%, FRR: 34.00%\n",
      "Threshold: 0.3, FAR: 5.00%, FRR: 18.00%\n",
      "Threshold: 0.35, FAR: 9.00%, FRR: 7.00%\n",
      "Threshold: 0.4, FAR: 16.00%, FRR: 2.00%\n"
     ]
    }
   ],
   "source": [
    "thresholds = [0.10, 0.15, 0.20, 0.25, 0.30, 0.35, 0.40]\n",
    "print_stats(thresholds)"
   ]
  },
  {
   "cell_type": "code",
   "execution_count": 11,
   "metadata": {},
   "outputs": [
    {
     "name": "stdout",
     "output_type": "stream",
     "text": [
      "Threshold: 0.11, FAR: 0.00%, FRR: 80.00%\n",
      "Threshold: 0.22, FAR: 3.00%, FRR: 44.00%\n",
      "Threshold: 0.33, FAR: 6.00%, FRR: 12.00%\n",
      "Threshold: 0.44, FAR: 23.00%, FRR: 2.00%\n",
      "Threshold: 0.55, FAR: 40.00%, FRR: 0.00%\n",
      "Threshold: 0.66, FAR: 65.00%, FRR: 0.00%\n",
      "Threshold: 0.77, FAR: 82.00%, FRR: 0.00%\n"
     ]
    }
   ],
   "source": [
    "thresholds = [0.11, 0.22, 0.33, 0.44, 0.55, 0.66, 0.77]\n",
    "print_stats(thresholds)"
   ]
  },
  {
   "cell_type": "code",
   "execution_count": 12,
   "metadata": {},
   "outputs": [
    {
     "name": "stdout",
     "output_type": "stream",
     "text": [
      "Threshold: 0.23, FAR: 3.00%, FRR: 41.00%\n",
      "Threshold: 0.34, FAR: 9.00%, FRR: 12.00%\n",
      "Threshold: 0.45, FAR: 25.00%, FRR: 1.00%\n",
      "Threshold: 0.56, FAR: 44.00%, FRR: 0.00%\n",
      "Threshold: 0.67, FAR: 68.00%, FRR: 0.00%\n",
      "Threshold: 0.78, FAR: 85.00%, FRR: 0.00%\n",
      "Threshold: 0.89, FAR: 94.00%, FRR: 0.00%\n"
     ]
    }
   ],
   "source": [
    "thresholds = [0.23, 0.34, 0.45, 0.56, 0.67, 0.78, 0.89]\n",
    "print_stats(thresholds)"
   ]
  },
  {
   "cell_type": "code",
   "execution_count": 13,
   "metadata": {},
   "outputs": [
    {
     "name": "stdout",
     "output_type": "stream",
     "text": [
      "Threshold: 0.46, FAR: 25.00%, FRR: 1.00%\n",
      "Threshold: 0.5, FAR: 30.00%, FRR: 0.00%\n",
      "Threshold: 0.54, FAR: 35.00%, FRR: 0.00%\n",
      "Threshold: 0.59, FAR: 54.00%, FRR: 0.00%\n",
      "Threshold: 0.63, FAR: 61.00%, FRR: 0.00%\n",
      "Threshold: 0.67, FAR: 68.00%, FRR: 0.00%\n",
      "Threshold: 0.71, FAR: 77.00%, FRR: 0.00%\n"
     ]
    }
   ],
   "source": [
    "thresholds = [0.46, 0.50, 0.54, 0.59, 0.63, 0.67, 0.71]\n",
    "print_stats(thresholds)"
   ]
  },
  {
   "cell_type": "code",
   "execution_count": null,
   "metadata": {},
   "outputs": [],
   "source": []
  }
 ],
 "metadata": {
  "kernelspec": {
   "display_name": "com-sec",
   "language": "python",
   "name": "python3"
  },
  "language_info": {
   "codemirror_mode": {
    "name": "ipython",
    "version": 3
   },
   "file_extension": ".py",
   "mimetype": "text/x-python",
   "name": "python",
   "nbconvert_exporter": "python",
   "pygments_lexer": "ipython3",
   "version": "3.12.7"
  }
 },
 "nbformat": 4,
 "nbformat_minor": 2
}
